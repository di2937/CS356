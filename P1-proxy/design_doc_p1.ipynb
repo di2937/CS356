{
 "cells": [
  {
   "cell_type": "markdown",
   "metadata": {},
   "source": [
    "# Design Document for P1 HTTP Proxy"
   ]
  },
  {
   "cell_type": "markdown",
   "metadata": {},
   "source": [
    "Partner A: Daimu Iwata\n",
    "\n",
    "Partner B: None"
   ]
  },
  {
   "cell_type": "markdown",
   "metadata": {},
   "source": [
    "### 1. Socket Management\n",
    "In the cell below, describe 1) how many socket objects are used, 2) the variable name for each socket, and 3) the purpose of each socket object. "
   ]
  },
  {
   "cell_type": "markdown",
   "metadata": {},
   "source": [
    "1: It depends how many clients there are and how many requests that each client makes.\n",
    "2: - \"connect_socket\n",
    "    - \"_client_socket\"\n",
    "    - \"s\"\n",
    "3: \"connect_socket\" is used (by the proxy) as accepting socket which accepts a new client. \"_client_socket\" which is a member of the class \"ClientHandler\" is a conn returned by socket.accept() and is used by the proxy to interact with the accepted client. and \"s\" is a socket for the proxy to interact with the server."
   ]
  },
  {
   "cell_type": "markdown",
   "metadata": {},
   "source": [
    "### 2. Multi-threading \n",
    "\n",
    "#### Overall Design \n",
    "In the cell below, describe how multi-threading is used in your program. You must include 1) the number of threads you use including the main thread, 2) what each thread is for and doing, 3) any loops you have for each thread.\n"
   ]
  },
  {
   "cell_type": "markdown",
   "metadata": {},
   "source": [
    "1: The number of threads is equal to the number of clients.\n",
    "2: The main thread accepts a new client and creates a connection between proxy and the client. When the client is accepted, then a new thread is created and handles the client request.\n",
    "3: The main thread has a loop that keeps accepting new clients. The class thread has a loop in the function \"_connect_request()\" which forwards a message between client and server."
   ]
  },
  {
   "cell_type": "markdown",
   "metadata": {},
   "source": [
    "#### Justification \n",
    "In the cell below, justify why your design is efficent and show evidence it can handles multiple client requests efficiently. Specify your testing scenario (how many requests were made, which websites were being used, etc"
   ]
  },
  {
   "cell_type": "markdown",
   "metadata": {},
   "source": [
    "My design is efficient. Since it uses multi-threading, when one thread is waiting to receive a message, another thread can do tasks. It could handle multiple clients and those clients requested www.youtube.com. Each client could get the response within a reasonable amount of time."
   ]
  },
  {
   "cell_type": "markdown",
   "metadata": {},
   "source": [
    "### 3. Streaming \n",
    "\n",
    "In the cell below, describe how streaming is implemented in your Proxy and the parameter (i.e. num of bytes) used for streaming. Justify the choice of your parameter. "
   ]
  },
  {
   "cell_type": "markdown",
   "metadata": {},
   "source": [
    "Streaming is implemented using TCP. So, it uses \"socket.SOCK_STREAM\" as a parameter for socket creation."
   ]
  },
  {
   "cell_type": "markdown",
   "metadata": {},
   "source": [
    "### 4. Data structures\n",
    "\n",
    "In the cell below, list any notable data structures you used and justify the use of the data structure. Also specify how you handle synchronization for the data structure if there were any need for synchronization. If none, you can say \"None\"."
   ]
  },
  {
   "cell_type": "markdown",
   "metadata": {},
   "source": [
    "No data structures are used."
   ]
  },
  {
   "cell_type": "markdown",
   "metadata": {},
   "source": [
    "### 5. How shutdown is handled\n",
    "In the cell below, describe how you handled the shutdown gracefully. "
   ]
  },
  {
   "cell_type": "markdown",
   "metadata": {},
   "source": [
    "When the user inputs ctrl+c or eof(ctrl+d), it will close all the open sockets and the main accepting socket and sys.exit(). "
   ]
  },
  {
   "cell_type": "markdown",
   "metadata": {},
   "source": [
    "### 6. Error handling \n",
    "In the cell below, describe how you handle unexpected errors by specifying 1) what kind of errors you may encounter 2) what you do for each errors."
   ]
  },
  {
   "cell_type": "markdown",
   "metadata": {},
   "source": [
    "1: \n",
    "- KeyboardInterrupt\n",
    "- FileExistsError\n",
    "- socket.timeout\n",
    "- socket.error\n",
    "2:\n",
    "- KeyboardInterrupt: close all the sockets open and the main accepting socket.\n",
    "- FileExistsError: do nothing, if already exist a \"Log\" directory, that's fine.\n",
    "- socket.timeout: yield to client/server to receive a message.\n",
    "- socket.error: fails to create a connection, so send \"bad gateway\" message and close the socket."
   ]
  },
  {
   "cell_type": "markdown",
   "metadata": {},
   "source": [
    "### 7. Any libraries used\n",
    "In the cell below, list any libraries that you used for the implementation and justify the usage."
   ]
  },
  {
   "cell_type": "markdown",
   "metadata": {},
   "source": [
    "import socket - socket data exchange\n",
    "import threading - for multi-threading\n",
    "import sys - for printing out a message in the shell\n",
    "import datetime - for getting current time\n",
    "import re - used to replace a word in a string\n",
    "import os - for logging to make a directories or files\n",
    "import uuid - to generate a uuid\n",
    "import json - to handle json files"
   ]
  },
  {
   "cell_type": "markdown",
   "metadata": {},
   "source": [
    "\n",
    "\n",
    "\n"
   ]
  },
  {
   "cell_type": "markdown",
   "metadata": {},
   "source": [
    "## Submission \n",
    "\n",
    "**Remember to \"Save the Notebook\" (from the \"File\" menu above). You can \"Shutdown\" to close Jupyter-lab **\n",
    "\n",
    "Push the updated notebook to your github team repo under the project root (the same level as README.txt)"
   ]
  }
 ],
 "metadata": {
  "kernelspec": {
   "display_name": "Python 3",
   "language": "python",
   "name": "python3"
  },
  "language_info": {
   "codemirror_mode": {
    "name": "ipython",
    "version": 3
   },
   "file_extension": ".py",
   "mimetype": "text/x-python",
   "name": "python",
   "nbconvert_exporter": "python",
   "pygments_lexer": "ipython3",
   "version": "3.8.5"
  }
 },
 "nbformat": 4,
 "nbformat_minor": 4
}
